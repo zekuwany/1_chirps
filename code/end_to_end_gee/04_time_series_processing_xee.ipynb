{
  "cells": [
    {
      "cell_type": "markdown",
      "metadata": {
        "id": "VCi5DKHB7jag"
      },
      "source": [
        "[XEE](https://github.com/google/Xee) is an python package for working with Google Earth Engine data with [XArray](https://docs.xarray.dev/en/stable/). XEE makes it possible to leverage the strengths of both GEE and the Python ecosystem around XArray.\n",
        "\n",
        "In this section, we will learn how to use XEE to extract and process NDVI time-series using built-in time-series processing function of XArray. Once processed, we will also save the resulting gap-filled images as Cloud-Optimized GeoTIFF (COG) files.\n",
        "\n",
        "For more examples of integrating XEE in your Python workflows, see the **XEE (XArray + Google Earth Engine)** section of our [Geospatial Python Tutorials](https://www.geopythontutorials.com/)."
      ]
    },
    {
      "cell_type": "markdown",
      "metadata": {
        "id": "YauILMlxtHa_"
      },
      "source": [
        "#### Installation\n",
        "\n",
        "Let's install the required packages in the Colab environment."
      ]
    },
    {
      "cell_type": "code",
      "execution_count": 1,
      "metadata": {
        "id": "aQpTzbC0l73O"
      },
      "outputs": [],
      "source": [
        "%%capture\n",
        "if 'google.colab' in str(get_ipython()):\n",
        "    !pip install --upgrade xee\n",
        "    !pip install rioxarray"
      ]
    },
    {
      "cell_type": "code",
      "execution_count": null,
      "metadata": {
        "id": "NaQVEndwjA-K"
      },
      "outputs": [],
      "source": [
        "import ee\n",
        "import xarray as xr\n",
        "import rioxarray as rxr\n",
        "import numpy as np\n",
        "import matplotlib.pyplot as plt\n",
        "import os"
      ]
    },
    {
      "cell_type": "markdown",
      "metadata": {
        "id": "CpVwpjkjIAJQ"
      },
      "source": [
        "#### Initialization\n",
        "\n",
        "First of all, you need to run the following cells to initialize the API and authorize your account. You must have a Google Cloud Project associated with your GEE account. Replace the `cloud_project` with your own project from [Google Cloud Console](https://console.cloud.google.com/).\n",
        "\n",
        "We are using the [High-volume Endpoint](https://developers.google.com/earth-engine/cloud/highvolume) which supports large number of concurrent requests and is recommended when working with XEE."
      ]
    },
    {
      "cell_type": "code",
      "execution_count": null,
      "metadata": {
        "id": "gjRJhBKF2iLf"
      },
      "outputs": [],
      "source": [
        "cloud_project = 'spatialthoughts'\n",
        "\n",
        "try:\n",
        "    ee.Initialize(\n",
        "        project=cloud_project,\n",
        "        opt_url='https://earthengine-highvolume.googleapis.com'\n",
        "    )\n",
        "except:\n",
        "    ee.Authenticate()\n",
        "    ee.Initialize(\n",
        "        project=cloud_project,\n",
        "        opt_url='https://earthengine-highvolume.googleapis.com'\n",
        "    )"
      ]
    },
    {
      "cell_type": "markdown",
      "metadata": {
        "id": "e1VjIDABXv9D"
      },
      "source": [
        "#### Select a location."
      ]
    },
    {
      "cell_type": "code",
      "execution_count": null,
      "metadata": {
        "id": "SqWOJq_AX2hZ"
      },
      "outputs": [],
      "source": [
        "latitude = 27.14240677750266\n",
        "longitude = 83.10171246528625\n",
        "point = ee.Geometry.Point([longitude, latitude])"
      ]
    },
    {
      "cell_type": "code",
      "execution_count": null,
      "metadata": {
        "id": "gf7yWSdYI_RF"
      },
      "outputs": [],
      "source": [
        "# Define a 1km bounding box around the chosen point\n",
        "geometry = point.buffer(1000).bounds()"
      ]
    },
    {
      "cell_type": "markdown",
      "metadata": {
        "id": "ILQivF-WHU4i"
      },
      "source": [
        "#### Preprocess the data in GEE\n",
        "\n",
        "We start with the Sentinel-2 L1C collection. We pre-process the data by applying cloud masking and pixel scaling."
      ]
    },
    {
      "cell_type": "code",
      "execution_count": null,
      "metadata": {
        "id": "Oj0K-RbvHL17"
      },
      "outputs": [],
      "source": [
        "s2 = ee.ImageCollection('COPERNICUS/S2_HARMONIZED')\n",
        "\n",
        "startDate = ee.Date.fromYMD(2019, 1, 1)\n",
        "endDate = ee.Date.fromYMD(2020, 1, 1)\n",
        "\n",
        "filtered = s2 \\\n",
        "  .filter(ee.Filter.date(startDate, endDate)) \\\n",
        "  .filter(ee.Filter.lt('CLOUDY_PIXEL_PERCENTAGE', 30)) \\\n",
        "  .filter(ee.Filter.bounds(geometry))\n",
        "\n",
        "# Load the Cloud Score+ collection\n",
        "csPlus = ee.ImageCollection('GOOGLE/CLOUD_SCORE_PLUS/V1/S2_HARMONIZED')\n",
        "csPlusBands = csPlus.first().bandNames()\n",
        "\n",
        "# We need to add Cloud Score + bands to each Sentinel-2\n",
        "# image in the collection\n",
        "# This is done using the linkCollection() function\n",
        "filteredS2WithCs = filtered.linkCollection(csPlus, csPlusBands)\n",
        "\n",
        "# Function to mask pixels with low CS+ QA scores.\n",
        "def maskLowQA(image):\n",
        "  qaBand = 'cs'\n",
        "  clearThreshold = 0.6\n",
        "  mask = image.select(qaBand).gte(clearThreshold)\n",
        "  return image.updateMask(mask)\n",
        "\n",
        "filteredMasked = filteredS2WithCs \\\n",
        "  .map(maskLowQA)\n",
        "\n",
        "# Write a function that computes NDVI for an image and adds it as a band\n",
        "# Create a new image to overcome https://github.com/google/Xee/issues/88\n",
        "def addNDVI(image):\n",
        "  ndvi = image.normalizedDifference(['B8', 'B4']).rename('ndvi')\n",
        "  return image.multiply(0.0001).addBands(ndvi)\\\n",
        "    .copyProperties(image, ['system:time_start'])\n",
        "\n",
        "# Map the function over the collection\n",
        "withNdvi = filteredMasked.map(addNDVI)\n"
      ]
    },
    {
      "cell_type": "markdown",
      "metadata": {
        "id": "dJpnLft8Hvj-"
      },
      "source": [
        "#### Load ImageCollection as XArray Dataset\n",
        "\n",
        "Now we have an ImageCollection that we want to get it as a XArray Dataset. We define the crs, scale and region of interest to extract the ImageCollection using the `ee` engine."
      ]
    },
    {
      "cell_type": "code",
      "execution_count": null,
      "metadata": {
        "id": "3WDqvzmHWF-p"
      },
      "outputs": [],
      "source": [
        "# XEE needs scale in the units of the CRS\n",
        "# so if you choose EPSG:4326, the scale needs to be in degrees\n",
        "crs = 'EPSG:3857'\n",
        "scale = 10"
      ]
    },
    {
      "cell_type": "code",
      "execution_count": null,
      "metadata": {
        "id": "gTsFhMBpXMBM"
      },
      "outputs": [],
      "source": [
        "ds = xr.open_dataset(\n",
        "    withNdvi,\n",
        "    engine='ee',\n",
        "    crs=crs,\n",
        "    scale=scale,\n",
        "    geometry=geometry,\n",
        "    ee_mask_value=-9999,\n",
        ")\n",
        "\n",
        "ds"
      ]
    },
    {
      "cell_type": "markdown",
      "metadata": {
        "id": "hOkAc80VKthU"
      },
      "source": [
        "Select the `ndvi` band."
      ]
    },
    {
      "cell_type": "code",
      "execution_count": null,
      "metadata": {
        "id": "U_D_VlVMKwGc"
      },
      "outputs": [],
      "source": [
        "ndvi_time_series = ds.ndvi"
      ]
    },
    {
      "cell_type": "markdown",
      "metadata": {
        "id": "6YbbjVgrK54D"
      },
      "source": [
        "Run `compute()` to fetch the pixels from Earth Engine. This may take some time depending on the size of the request."
      ]
    },
    {
      "cell_type": "code",
      "execution_count": null,
      "metadata": {
        "id": "vYm4EqPXJY2H"
      },
      "outputs": [],
      "source": [
        "%%time\n",
        "ndvi_time_series = ndvi_time_series.compute()"
      ]
    },
    {
      "cell_type": "markdown",
      "metadata": {
        "id": "1v1kwlzoXotb"
      },
      "source": [
        "Plot the time-series at the chosen point."
      ]
    },
    {
      "cell_type": "code",
      "execution_count": null,
      "metadata": {
        "id": "cqLlnNbxVxqe"
      },
      "outputs": [],
      "source": [
        "point_x, point_y = point.transform(crs).coordinates().getInfo()"
      ]
    },
    {
      "cell_type": "code",
      "execution_count": null,
      "metadata": {
        "id": "LMiNNy96Xcsp"
      },
      "outputs": [],
      "source": [
        "fig, ax = plt.subplots(1, 1)\n",
        "fig.set_size_inches(10, 5)\n",
        "ndvi_time_series\\\n",
        "  .sel(X=point_x, Y=point_y, method='nearest').plot.line(\n",
        "    ax=ax, x='time',\n",
        "    marker='o', color='#66c2a4',\n",
        "    linestyle='--', linewidth=1, markersize=4)\n",
        "plt.ylim(0, 1)\n",
        "plt.show()"
      ]
    },
    {
      "cell_type": "markdown",
      "metadata": {
        "id": "7mr5sf4dOLGP"
      },
      "source": [
        "#### Process Time-Series using XArray\n",
        "\n",
        "We use XArray's excellent time-series processing functionality to process the time-series.\n",
        "\n",
        "* First, we create a regularly spaced time-series using `resample()`\n",
        "* Next we fill the cloud-masked pixels using `interpolate_na()` from temporal neighbors.\n",
        "* Finally, we apply a moving-window smoothing using `rolling()` to remove noise."
      ]
    },
    {
      "cell_type": "code",
      "execution_count": null,
      "metadata": {
        "id": "yI-hDl-WNG02"
      },
      "outputs": [],
      "source": [
        "%%time\n",
        "# Group by date and take the mean to handle duplicate dates before resampling\n",
        "ndvi_time_series_resampled = ndvi_time_series \\\n",
        "  .sortby('time') \\\n",
        "  .resample(time='5D').mean(dim='time')\n",
        "ndvi_time_series_interpolated = ndvi_time_series_resampled \\\n",
        "  .interpolate_na('time', use_coordinate=False)\n",
        "ndvi_time_series_smoothed = ndvi_time_series_interpolated \\\n",
        "  .rolling(time=3, center=True).mean()"
      ]
    },
    {
      "cell_type": "markdown",
      "metadata": {
        "id": "rdOgykrmWAJR"
      },
      "source": [
        "Plot the original and smoothed time-series."
      ]
    },
    {
      "cell_type": "code",
      "execution_count": null,
      "metadata": {
        "id": "9h1R2aPfOgNd"
      },
      "outputs": [],
      "source": [
        "fig, ax = plt.subplots(1, 1)\n",
        "fig.set_size_inches(10, 5)\n",
        "ndvi_time_series \\\n",
        "  .sel(X=point_x, Y=point_y, method='nearest').plot.line(\n",
        "    ax=ax, x='time',\n",
        "    marker='^', color='#66c2a4',\n",
        "    linestyle='--', linewidth=1, markersize=2)\n",
        "ndvi_time_series_smoothed \\\n",
        "  .sel(X=point_x, Y=point_y, method='nearest').plot.line(\n",
        "    ax=ax, x='time',\n",
        "    marker='o', color='#238b45',\n",
        "    linestyle='-', linewidth=1, markersize=4)\n",
        "\n",
        "plt.ylim(0, 1)\n",
        "plt.show()"
      ]
    },
    {
      "cell_type": "markdown",
      "metadata": {
        "id": "tytabV-N5f-O"
      },
      "source": [
        "## Download Time-Series Images"
      ]
    },
    {
      "cell_type": "markdown",
      "metadata": {
        "id": "2IzVkVt8msJI"
      },
      "source": [
        "Save the output GeoTIFF files to Google Drive if running the notebook from Colab. Otherwise to a local folder."
      ]
    },
    {
      "cell_type": "code",
      "execution_count": null,
      "metadata": {
        "id": "22ShAcS6mmpg"
      },
      "outputs": [],
      "source": [
        "if 'google.colab' in str(get_ipython()):\n",
        "  from google.colab import drive\n",
        "  drive.mount('/content/drive')\n",
        "  output_folder = '/content/drive/MyDrive/earthengine/'\n",
        "else:\n",
        "  output_folder = 'output'"
      ]
    },
    {
      "cell_type": "code",
      "execution_count": null,
      "metadata": {
        "id": "CDvBRnn8YXF9"
      },
      "outputs": [],
      "source": [
        "if not os.path.exists(output_folder):\n",
        "    os.mkdir(output_folder)"
      ]
    },
    {
      "cell_type": "markdown",
      "metadata": {
        "id": "ehxlKsUY780n"
      },
      "source": [
        "Save the original time-series images using `rioxarray` as GeoTIFF files."
      ]
    },
    {
      "cell_type": "code",
      "execution_count": null,
      "metadata": {
        "id": "Fik-Cya_5pWO"
      },
      "outputs": [],
      "source": [
        "for time in ndvi_time_series.time.values:\n",
        "  image = ndvi_time_series.sel(time=time)\n",
        "  # transform the image to suit rioxarray format\n",
        "  image = image \\\n",
        "    .rename({'Y': 'y', 'X': 'x'}) \\\n",
        "    .transpose('y', 'x') \\\n",
        "    .rio.write_crs(crs)\n",
        "\n",
        "  date = np.datetime_as_string(time, unit='D')\n",
        "  output_file = f'ndvi_{date}.tif'\n",
        "  output_path = os.path.join(output_folder, output_file)\n",
        "  image.rio.to_raster(output_path, driver='COG')"
      ]
    },
    {
      "cell_type": "markdown",
      "metadata": {
        "id": "R8NrAucw8Akr"
      },
      "source": [
        "Save the gap-filled and smoothed time-series images."
      ]
    },
    {
      "cell_type": "code",
      "execution_count": null,
      "metadata": {
        "id": "32072E2AyCfU"
      },
      "outputs": [],
      "source": [
        "for time in ndvi_time_series_smoothed.time.values:\n",
        "  image = ndvi_time_series_smoothed.sel(time=time)\n",
        "  # transform the image to suit rioxarray format\n",
        "  image = image \\\n",
        "    .rename({'Y': 'y', 'X': 'x'}) \\\n",
        "    .transpose('y', 'x') \\\n",
        "    .rio.write_crs(crs)\n",
        "\n",
        "  date = np.datetime_as_string(time, unit='D')\n",
        "  output_file = f'ndvi_smoothed_{date}.tif'\n",
        "  output_path = os.path.join(output_folder, output_file)\n",
        "  image.rio.to_raster(output_path, driver='COG')\n"
      ]
    },
    {
      "cell_type": "markdown",
      "metadata": {
        "id": "DFfLX-QhYM58"
      },
      "source": [
        "### Exercise\n",
        "\n",
        "Replace the `point` with the location of your choice. Extract and download the smoothed time-series."
      ]
    }
  ],
  "metadata": {
    "colab": {
      "provenance": []
    },
    "kernelspec": {
      "display_name": "Python 3 (ipykernel)",
      "language": "python",
      "name": "python3"
    },
    "language_info": {
      "codemirror_mode": {
        "name": "ipython",
        "version": 3
      },
      "file_extension": ".py",
      "mimetype": "text/x-python",
      "name": "python",
      "nbconvert_exporter": "python",
      "pygments_lexer": "ipython3",
      "version": "3.11.8"
    }
  },
  "nbformat": 4,
  "nbformat_minor": 0
}